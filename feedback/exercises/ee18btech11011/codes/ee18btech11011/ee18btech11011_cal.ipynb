{
  "nbformat": 4,
  "nbformat_minor": 0,
  "metadata": {
    "colab": {
      "name": "ee18btech11011_cal.ipynb",
      "provenance": [],
      "collapsed_sections": []
    },
    "kernelspec": {
      "name": "python3",
      "display_name": "Python 3"
    }
  },
  "cells": [
    {
      "cell_type": "code",
      "metadata": {
        "id": "ABVjRQF9atdd",
        "colab_type": "code",
        "outputId": "5b6579f6-819b-47de-8412-2928af135a82",
        "colab": {
          "base_uri": "https://localhost:8080/",
          "height": 185
        }
      },
      "source": [
        "mu= 1e3\n",
        "Rs = 1e3\n",
        "Rid = 100e3\n",
        "RL = float('inf')\n",
        "ro = 1e3\n",
        "RF = 10e3\n",
        "#Calculations\n",
        "\n",
        "Ri = 1/(1/Rs + 1/Rid + 1/RF)\n",
        "print(f\"Ri = {Ri/(10**3):.2f}k\\u03A9\")\n",
        "\n",
        "G = -mu*((Ri*RF)/(ro + RF))\n",
        "print(f\"G = {G/(10**3):.2f}k\\u03A9\")\n",
        "\n",
        "H = -1/(RF)\n",
        "print(f\"H = {H*(10**3):.2f}mA/V\")\n",
        "\n",
        "T = (G)/(1+(G*H))\n",
        "print(f\"T = {T/(10**3):.2f}k\\u03A9\")\n",
        "\n",
        "Ro = 1/(1/ro + 1/RF)\n",
        "print(f\"Ro = {Ro/(10**3):.2f}k\\u03A9\")\n",
        "\n",
        "# Vg = V0/Vs i.e., Closed-loop voltage gain\n",
        "Vg = (T)/(Rs)\n",
        "print(f\"Vg = {Vg:.2f}V/V\")\n",
        "\n",
        "Rif = Ri/(1 + G*H)\n",
        "print(f\"Rif = {Rif:.2f}\\u03A9\")\n",
        "\n",
        "Rof = Ro/(1 + G*H)\n",
        "print(f\"Rof = {Rof:.2f}\\u03A9\")\n",
        "\n",
        "Rin = 1/(1/Rif - 1/Rs)\n",
        "print(f\"Rin = {Rin:.2f}\\u03A9\")\n",
        "\n",
        "Rout = 1/(1/Rof - 1/RL)\n",
        "print(f\"Rout = {Rout:.2f}\\u03A9\")\n"
      ],
      "execution_count": 1,
      "outputs": [
        {
          "output_type": "stream",
          "text": [
            "Ri = 0.90kΩ\n",
            "G = -819.00kΩ\n",
            "H = -0.10mA/V\n",
            "T = -9.88kΩ\n",
            "Ro = 0.91kΩ\n",
            "Vg = -9.88V/V\n",
            "Rif = 10.87Ω\n",
            "Rof = 10.97Ω\n",
            "Rin = 10.99Ω\n",
            "Rout = 10.97Ω\n"
          ],
          "name": "stdout"
        }
      ]
    }
  ]
}